{
  "nbformat": 4,
  "nbformat_minor": 0,
  "metadata": {
    "colab": {
      "provenance": [],
      "toc_visible": true
    },
    "kernelspec": {
      "name": "python3",
      "display_name": "Python 3"
    },
    "language_info": {
      "name": "python"
    }
  },
  "cells": [
    {
      "cell_type": "markdown",
      "source": [
        "# Importaciones"
      ],
      "metadata": {
        "id": "8v25s_IjT7Ia"
      }
    },
    {
      "cell_type": "code",
      "execution_count": null,
      "metadata": {
        "id": "af5jGBCvENCb"
      },
      "outputs": [],
      "source": [
        "import ee\n",
        "\n",
        "# Trigger the authentication flow.\n",
        "ee.Authenticate()\n",
        "\n",
        "# Initialize the library.\n",
        "ee.Initialize()\n",
        "import datetime\n",
        "import matplotlib.pyplot as plt\n",
        "import csv\n",
        "import pandas as pd\n",
        "from google.colab import drive\n",
        "drive.mount(\"/content/gdrive\")\n",
        "import numpy as np\n",
        "import matplotlib.image as mpimg\n",
        "import os\n",
        "import cv2\n",
        "import time\n",
        "import random\n",
        "import pandas as pd\n",
        "from funciones_google_earth.py import maskS2clouds,\\\n",
        "  incendio, temperatura, humedad_relativa , poblacion,\\\n",
        "  viento"
      ]
    },
    {
      "cell_type": "markdown",
      "source": [
        "# 1- Lectura ciudades"
      ],
      "metadata": {
        "id": "7LiAR_x4UKT1"
      }
    },
    {
      "cell_type": "markdown",
      "source": [
        "El fichero recibido por el CE no incorpora las coordenadas X e Y por lo que a partir de las ciudades y el país usaré la librería de *geopy* para recibir las coordenadas que dejen en su centro la ciudad.\n",
        "\n",
        "No se pueden realizar consultas superiores a 1.000 la hora por lo que partiré en 4 el dataset original"
      ],
      "metadata": {
        "id": "ng6-HAqem2Ra"
      }
    },
    {
      "cell_type": "code",
      "source": [
        "df = pd.read_csv ('/content/gdrive/My Drive/incendios_satelite/historia incendios.csv', sep=';', encoding='latin1')"
      ],
      "metadata": {
        "id": "33oydHF7Oa-N"
      },
      "execution_count": null,
      "outputs": []
    },
    {
      "cell_type": "code",
      "source": [
        "df1 = df.iloc[0:900,:]\n",
        "df2 = df.iloc[900:1800,:]\n",
        "df3 = df.iloc[1800:2700,:]\n",
        "df4 = df.iloc[2700:3600,:]"
      ],
      "metadata": {
        "id": "iOqWjCx-Zhxh"
      },
      "execution_count": null,
      "outputs": []
    },
    {
      "cell_type": "code",
      "source": [
        "from geopy import geocoders\n",
        "gn = geocoders.GeoNames(username=\"cpintorv\")\n",
        "df1[\"coordenadas\"] = df1.apply(lambda x: gn.geocode(str(x.admlvl5) + \" , \" + str(x.country)), axis=1)"
      ],
      "metadata": {
        "id": "z1jfLOPlZm5w"
      },
      "execution_count": null,
      "outputs": []
    },
    {
      "cell_type": "code",
      "source": [
        "df2[\"coordenadas\"] = df2.apply(lambda x: gn.geocode(str(x.admlvl5) + \" , \" + str(x.country)), axis=1)"
      ],
      "metadata": {
        "id": "Nue7t2Vkox_F"
      },
      "execution_count": null,
      "outputs": []
    },
    {
      "cell_type": "code",
      "source": [
        "df3[\"coordenadas\"] = df3.apply(lambda x: gn.geocode(str(x.admlvl5) + \" , \" + str(x.country)), axis=1)   "
      ],
      "metadata": {
        "id": "SBKINPRkoyEX"
      },
      "execution_count": null,
      "outputs": []
    },
    {
      "cell_type": "code",
      "source": [
        "df4[\"coordenadas\"] = df4.apply(lambda x: gn.geocode(str(x.admlvl5) + \" , \" + str(x.country)), axis=1)"
      ],
      "metadata": {
        "id": "aAERU9kI1sN7"
      },
      "execution_count": null,
      "outputs": []
    },
    {
      "cell_type": "code",
      "source": [
        "df1 = df1[df1[\"coordenadas\"].notnull()]\n",
        "df2 = df2[df2[\"coordenadas\"].notnull()]\n",
        "df3 = df3[df3[\"coordenadas\"].notnull()]\n",
        "df4 = df4[df4[\"coordenadas\"].notnull()]"
      ],
      "metadata": {
        "id": "QLaEhxgMFG0w"
      },
      "execution_count": null,
      "outputs": []
    },
    {
      "cell_type": "code",
      "source": [
        "# Limpiamos las variables que no vaomos a usar en las llamadas\n",
        "# df1\n",
        "df1[\"x\"] = df1[\"coordenadas\"].apply(lambda x: x[1][0])\n",
        "df1[\"y\"] = df1[\"coordenadas\"].apply(lambda x: x[1][1])\n",
        "df1.drop(\"coordenadas\", axis=1, inplace=True)\n",
        "df1.drop(\"admlvl1\", axis=1, inplace=True)\n",
        "df1.drop(\"country\", axis=1, inplace=True)\n",
        "df1.drop(\"eu_area\", axis=1, inplace=True)\n",
        "df1.drop(\"area_code\", axis=1, inplace=True)\n",
        "df1.drop(\"updated\", axis=1, inplace=True)\n",
        "df1.drop(\"noneu\", axis=1, inplace=True)\n",
        "df1.drop(\"X\", axis=1, inplace=True)\n",
        "df1.drop(\"Y\", axis=1, inplace=True)\n",
        "df1.drop(\"area_ha\", axis=1, inplace=True)\n",
        "df1.drop(\"iso2\", axis=1, inplace=True)\n",
        "df1.drop(\"iso3\", axis=1, inplace=True)\n",
        "df1.drop(\"admlvl2\", axis=1, inplace=True)\n",
        "df1.drop(\"admlvl3\", axis=1, inplace=True)\n",
        "df1.drop(\"admlvl5\", axis=1, inplace=True)\n",
        "df1.drop(\"map_source\", axis=1, inplace=True)\n",
        "df1.drop(\"broadleaved_forest_percent\", axis=1, inplace=True)\n",
        "df1.drop(\"coniferous_forest_percent\", axis=1, inplace=True)\n",
        "df1.drop(\"mixed_forest_percent\", axis=1, inplace=True)\n",
        "df1.drop(\"sclerophillous_vegetation_percent\", axis=1, inplace=True)\n",
        "df1.drop(\"transitional_vegetation_percent\", axis=1, inplace=True)\n",
        "df1.drop(\"other_natural_percent\", axis=1, inplace=True)\n",
        "df1.drop(\"agriculture_percent\", axis=1, inplace=True)\n",
        "df1.drop(\"artificial_percent\", axis=1, inplace=True)\n",
        "df1.drop(\"other_percent\", axis=1, inplace=True)\n",
        "df1.drop(\"natura2k_percent\", axis=1, inplace=True)\n",
        "\n",
        "# df2\n",
        "df2[\"x\"] = df2[\"coordenadas\"].apply(lambda x: x[1][0])\n",
        "df2[\"y\"] = df2[\"coordenadas\"].apply(lambda x: x[1][1])\n",
        "df2.drop(\"coordenadas\", axis=1, inplace=True)\n",
        "df2.drop(\"admlvl1\", axis=1, inplace=True)\n",
        "df2.drop(\"country\", axis=1, inplace=True)\n",
        "df2.drop(\"eu_area\", axis=1, inplace=True)\n",
        "df2.drop(\"area_code\", axis=1, inplace=True)\n",
        "df2.drop(\"updated\", axis=1, inplace=True)\n",
        "df2.drop(\"noneu\", axis=1, inplace=True)\n",
        "df2.drop(\"X\", axis=1, inplace=True)\n",
        "df2.drop(\"Y\", axis=1, inplace=True)\n",
        "df2.drop(\"area_ha\", axis=1, inplace=True)\n",
        "df2.drop(\"iso2\", axis=1, inplace=True)\n",
        "df2.drop(\"iso3\", axis=1, inplace=True)\n",
        "df2.drop(\"admlvl2\", axis=1, inplace=True)\n",
        "df2.drop(\"admlvl3\", axis=1, inplace=True)\n",
        "df2.drop(\"admlvl5\", axis=1, inplace=True)\n",
        "df2.drop(\"map_source\", axis=1, inplace=True)\n",
        "df2.drop(\"broadleaved_forest_percent\", axis=1, inplace=True)\n",
        "df2.drop(\"coniferous_forest_percent\", axis=1, inplace=True)\n",
        "df2.drop(\"mixed_forest_percent\", axis=1, inplace=True)\n",
        "df2.drop(\"sclerophillous_vegetation_percent\", axis=1, inplace=True)\n",
        "df2.drop(\"transitional_vegetation_percent\", axis=1, inplace=True)\n",
        "df2.drop(\"other_natural_percent\", axis=1, inplace=True)\n",
        "df2.drop(\"agriculture_percent\", axis=1, inplace=True)\n",
        "df2.drop(\"artificial_percent\", axis=1, inplace=True)\n",
        "df2.drop(\"other_percent\", axis=1, inplace=True)\n",
        "df2.drop(\"natura2k_percent\", axis=1, inplace=True)\n",
        "\n",
        "# df3\n",
        "df3[\"x\"] = df3[\"coordenadas\"].apply(lambda x: x[1][0])\n",
        "df3[\"y\"] = df3[\"coordenadas\"].apply(lambda x: x[1][1])\n",
        "df3.drop(\"coordenadas\", axis=1, inplace=True)\n",
        "df3.drop(\"admlvl1\", axis=1, inplace=True)\n",
        "df3.drop(\"country\", axis=1, inplace=True)\n",
        "df3.drop(\"eu_area\", axis=1, inplace=True)\n",
        "df3.drop(\"area_code\", axis=1, inplace=True)\n",
        "df3.drop(\"updated\", axis=1, inplace=True)\n",
        "df3.drop(\"noneu\", axis=1, inplace=True)\n",
        "df3.drop(\"X\", axis=1, inplace=True)\n",
        "df3.drop(\"Y\", axis=1, inplace=True)\n",
        "df3.drop(\"area_ha\", axis=1, inplace=True)\n",
        "df3.drop(\"iso2\", axis=1, inplace=True)\n",
        "df3.drop(\"iso3\", axis=1, inplace=True)\n",
        "df3.drop(\"admlvl2\", axis=1, inplace=True)\n",
        "df3.drop(\"admlvl3\", axis=1, inplace=True)\n",
        "df3.drop(\"admlvl5\", axis=1, inplace=True)\n",
        "df3.drop(\"map_source\", axis=1, inplace=True)\n",
        "df3.drop(\"broadleaved_forest_percent\", axis=1, inplace=True)\n",
        "df3.drop(\"coniferous_forest_percent\", axis=1, inplace=True)\n",
        "df3.drop(\"mixed_forest_percent\", axis=1, inplace=True)\n",
        "df3.drop(\"sclerophillous_vegetation_percent\", axis=1, inplace=True)\n",
        "df3.drop(\"transitional_vegetation_percent\", axis=1, inplace=True)\n",
        "df3.drop(\"other_natural_percent\", axis=1, inplace=True)\n",
        "df3.drop(\"agriculture_percent\", axis=1, inplace=True)\n",
        "df3.drop(\"artificial_percent\", axis=1, inplace=True)\n",
        "df3.drop(\"other_percent\", axis=1, inplace=True)\n",
        "df3.drop(\"natura2k_percent\", axis=1, inplace=True)\n",
        "\n",
        "# df4\n",
        "df4[\"x\"] = df4[\"coordenadas\"].apply(lambda x: x[1][0])\n",
        "df4[\"y\"] = df4[\"coordenadas\"].apply(lambda x: x[1][1])\n",
        "df4.drop(\"coordenadas\", axis=1, inplace=True)\n",
        "df4.drop(\"admlvl1\", axis=1, inplace=True)\n",
        "df4.drop(\"country\", axis=1, inplace=True)\n",
        "df4.drop(\"eu_area\", axis=1, inplace=True)\n",
        "df4.drop(\"area_code\", axis=1, inplace=True)\n",
        "df4.drop(\"updated\", axis=1, inplace=True)\n",
        "df4.drop(\"noneu\", axis=1, inplace=True)\n",
        "df4.drop(\"X\", axis=1, inplace=True)\n",
        "df4.drop(\"Y\", axis=1, inplace=True)\n",
        "df4.drop(\"area_ha\", axis=1, inplace=True)\n",
        "df4.drop(\"iso2\", axis=1, inplace=True)\n",
        "df4.drop(\"iso3\", axis=1, inplace=True)\n",
        "df4.drop(\"admlvl2\", axis=1, inplace=True)\n",
        "df4.drop(\"admlvl3\", axis=1, inplace=True)\n",
        "df4.drop(\"admlvl5\", axis=1, inplace=True)\n",
        "df4.drop(\"map_source\", axis=1, inplace=True)\n",
        "df4.drop(\"broadleaved_forest_percent\", axis=1, inplace=True)\n",
        "df4.drop(\"coniferous_forest_percent\", axis=1, inplace=True)\n",
        "df4.drop(\"mixed_forest_percent\", axis=1, inplace=True)\n",
        "df4.drop(\"sclerophillous_vegetation_percent\", axis=1, inplace=True)\n",
        "df4.drop(\"transitional_vegetation_percent\", axis=1, inplace=True)\n",
        "df4.drop(\"other_natural_percent\", axis=1, inplace=True)\n",
        "df4.drop(\"agriculture_percent\", axis=1, inplace=True)\n",
        "df4.drop(\"artificial_percent\", axis=1, inplace=True)\n",
        "df4.drop(\"other_percent\", axis=1, inplace=True)\n",
        "df4.drop(\"natura2k_percent\", axis=1, inplace=True)"
      ],
      "metadata": {
        "id": "8TMDfOKNa_t0"
      },
      "execution_count": null,
      "outputs": []
    },
    {
      "cell_type": "code",
      "source": [
        "df_final = pd.concat([df1, df2, df3, df4])"
      ],
      "metadata": {
        "id": "fzxn0d2R_NfA"
      },
      "execution_count": null,
      "outputs": []
    },
    {
      "cell_type": "code",
      "source": [
        "df_final_sorted.head()"
      ],
      "metadata": {
        "id": "xxn092oWXVgc"
      },
      "execution_count": null,
      "outputs": []
    },
    {
      "cell_type": "code",
      "source": [
        "df_final_sorted[\"initialdate\"] = pd.to_datetime(df_final_sorted[\"initialdate\"])\n",
        "df_final_sorted[\"finaldate\"] = pd.to_datetime(df_final_sorted[\"finaldate\"])\n",
        "df_final_sorted = df_final_sorted.sort_values(by=[\"x\", \"initialdate\"])\n",
        "df_final_sorted = df_final_sorted.drop_duplicates(subset = 'x', keep = 'first')"
      ],
      "metadata": {
        "id": "fVGVf3GbXre0"
      },
      "execution_count": null,
      "outputs": []
    },
    {
      "cell_type": "code",
      "source": [
        "df_final_sorted[\"year\"] = df_final_sorted[\"initialdate\"].apply(lambda x: x.year)\n",
        "df_final_sorted[\"month\"] = df_final_sorted[\"initialdate\"].apply(lambda x: x.month)\n",
        "df_final_sorted[\"day\"] = df_final_sorted[\"initialdate\"].apply(lambda x: x.day)"
      ],
      "metadata": {
        "id": "-hEHssw_ZHDU"
      },
      "execution_count": null,
      "outputs": []
    },
    {
      "cell_type": "code",
      "source": [
        "# Exportamos a CSV para poder quitar los duplicados en excel\n",
        "df_final_sorted.to_csv('/content/gdrive/My Drive/incendios_satelite/historia incendios_limpio.csv')"
      ],
      "metadata": {
        "id": "eC_3OCplKdFt"
      },
      "execution_count": null,
      "outputs": []
    },
    {
      "cell_type": "markdown",
      "source": [
        "# 2-Imágenes reales target"
      ],
      "metadata": {
        "id": "Edbc5SatSKk4"
      }
    },
    {
      "cell_type": "code",
      "source": [
        "path_incendios = '/content/gdrive/My Drive/incendios_satelite/' # Los dejo\n",
        "# en esta ruta y los iré moviendo a la carpeta correspondiente\n",
        "lista_ficheros = []\n",
        "lista_id = []\n",
        "df_final_sorted = pd.read_csv(\n",
        "    '/content/gdrive/My Drive/incendios_satelite/historia incendios_limpio.csv', sep=',')\n",
        "for file in os.listdir(path_incendios):\n",
        "  if \"incendio\" in file:\n",
        "    lista_ficheros.append(int(file.split(\"i\")[0]))\n",
        "\n",
        "df_existentes = pd.DataFrame(data = lista_ficheros, columns = ['id'])\n",
        "df_satelite2 = pd.merge(df_final_sorted,\n",
        "                        df_existentes,\n",
        "                        how = 'inner',\n",
        "                        left_on = 'id',\n",
        "                        right_on = 'id')"
      ],
      "metadata": {
        "id": "yV6g037sCuPg"
      },
      "execution_count": null,
      "outputs": []
    },
    {
      "cell_type": "code",
      "source": [
        "df_satelite2.apply(lambda x: temperatura(id = x[\"id\"],\n",
        "                                     x = x[\"x\"],\n",
        "                                     y = x[\"y\"],\n",
        "                                     year = x[\"year\"],\n",
        "                                     month = x[\"month\"],\n",
        "                                     day = x[\"day\"],\n",
        "                                     anticipacion = 1), axis=1)"
      ],
      "metadata": {
        "id": "WOuzcCqyk6G9"
      },
      "execution_count": null,
      "outputs": []
    },
    {
      "cell_type": "code",
      "source": [
        "df_satelite2.apply(lambda x: humedad_relativa(id = x[\"id\"],\n",
        "                                     x = x[\"x\"],\n",
        "                                     y = x[\"y\"],\n",
        "                                     year = x[\"year\"],\n",
        "                                     month = x[\"month\"],\n",
        "                                     day = x[\"day\"],\n",
        "                                     anticipacion = 1), axis=1)"
      ],
      "metadata": {
        "id": "fEBYAtHaFn9_"
      },
      "execution_count": null,
      "outputs": []
    },
    {
      "cell_type": "code",
      "source": [
        "df_satelite2.apply(lambda x: poblacion(id = x[\"id\"],\n",
        "                                     x = x[\"x\"],\n",
        "                                     y = x[\"y\"],\n",
        "                                     year = x[\"year\"],\n",
        "                                     month = x[\"month\"],\n",
        "                                     day = x[\"day\"],\n",
        "                                     anticipacion = 1), axis=1)"
      ],
      "metadata": {
        "id": "4EHeATmPHTdv"
      },
      "execution_count": null,
      "outputs": []
    },
    {
      "cell_type": "code",
      "source": [
        "df_satelite2.apply(lambda x: viento(id = x[\"id\"],\n",
        "                                     x = x[\"x\"],\n",
        "                                     y = x[\"y\"],\n",
        "                                     year = x[\"year\"],\n",
        "                                     month = x[\"month\"],\n",
        "                                     day = x[\"day\"],\n",
        "                                     anticipacion = 1,\n",
        "                                    direccion='U'), axis=1)"
      ],
      "metadata": {
        "id": "dm9e3NIbIXyn"
      },
      "execution_count": null,
      "outputs": []
    },
    {
      "cell_type": "code",
      "source": [
        "df_satelite2.apply(lambda x: viento(id = x[\"id\"],\n",
        "                                     x = x[\"x\"],\n",
        "                                     y = x[\"y\"],\n",
        "                                     year = x[\"year\"],\n",
        "                                     month = x[\"month\"],\n",
        "                                     day = x[\"day\"],\n",
        "                                     anticipacion = 1,\n",
        "                                    direccion='V'), axis=1)"
      ],
      "metadata": {
        "id": "lWHGgVc1Ikm7"
      },
      "execution_count": null,
      "outputs": []
    },
    {
      "cell_type": "markdown",
      "source": [
        "# 3-Imágenes reales control"
      ],
      "metadata": {
        "id": "MRJaNMoMGUYm"
      }
    },
    {
      "cell_type": "markdown",
      "source": [
        "Las imágenes de control las he generado en excel manteniendo la distribución de año y mes que se había seguido en la generación de imágenes target"
      ],
      "metadata": {
        "id": "3nWK9MtgsVlY"
      }
    },
    {
      "cell_type": "code",
      "source": [
        "path_incendios = '/content/gdrive/My Drive/incendios_satelite/'\n",
        "df_satelite_control = pd.read_csv (path_incendios + 'Control.csv', sep=';', encoding='latin1')\n",
        "len(df_satelite_control)"
      ],
      "metadata": {
        "id": "U6SF2O8fGvcX"
      },
      "execution_count": null,
      "outputs": []
    },
    {
      "cell_type": "code",
      "source": [
        "df_satelite_control.apply(lambda x: incendio(id = x[\"id\"],\n",
        "                                     x = x[\"X\"],\n",
        "                                     y = x[\"Y\"],\n",
        "                                     year = x[\"year\"],\n",
        "                                     month = x[\"month\"],\n",
        "                                     day = x[\"day\"],\n",
        "                                     anticipacion = 1), axis=1)"
      ],
      "metadata": {
        "id": "DeWXc6zlG823"
      },
      "execution_count": null,
      "outputs": []
    },
    {
      "cell_type": "markdown",
      "source": [
        "# 4-Genera dataframe temperatura, humedad relativa, población y viento"
      ],
      "metadata": {
        "id": "fOcG771gKPGV"
      }
    },
    {
      "cell_type": "code",
      "source": [
        "# Genero un dataframe con los \"id\" de las imágenes de incendios sobre las\n",
        "# que se ha generado imagen real. Se aplica para control, para target ya\n",
        "# se ha eliminado en el excel\n",
        "path_incendios = '/content/gdrive/My Drive/incendios_satelite/Control'\n",
        "lista_ficheros = []\n",
        "lista_id = []\n",
        "for file in os.listdir(path_incendios):\n",
        "  if \"incendio\" in file:\n",
        "    lista_ficheros.append(int(file.split(\"i\")[0]))\n",
        "\n",
        "df_existentes = pd.DataFrame(data = lista_ficheros, columns = ['id'])\n",
        "\n",
        "# Leo el csv con todos los casos de control\n",
        "df_satelite_control = pd.read_csv (path_incendios + 'Total casos2.csv', sep=';',\n",
        "                                   encoding='latin1')\n",
        "\n",
        "# Cruzo ambos dataframes de manera que tenga únicamente los que sí ha conseguido\n",
        "# generar la imagen real\n",
        "df_existentes_control = pd.merge(df_satelite_control, df_existentes, \n",
        "                                 how = 'inner', left_on = 'id', \n",
        "                                 right_on = 'id')\n",
        "\n",
        "# Exportamos para quitar los febreros con 29 y 30 días y volvemos a leer\n",
        "df_existentes_control.to_csv(path_incendios + 'total_incendios_control.csv', \n",
        "                             index = False)"
      ],
      "metadata": {
        "id": "ump6_fC3HqYg"
      },
      "execution_count": null,
      "outputs": []
    },
    {
      "cell_type": "markdown",
      "source": [
        "# 5-Temperatura"
      ],
      "metadata": {
        "id": "fezS1X3KM-8r"
      }
    },
    {
      "cell_type": "markdown",
      "source": [
        "## 5.1- Control"
      ],
      "metadata": {
        "id": "2JFY66G6phOv"
      }
    },
    {
      "cell_type": "code",
      "source": [
        "# Leo el fichero con los incendios de control\n",
        "path_incencios_csv = '/content/gdrive/My Drive/incendios_satelite/'\n",
        "df_satelite_target = pd.read_csv (\n",
        "    path_incencios_csv + 'total_incendios_control.csv', sep=',', encoding='latin1')\n",
        "print(\"Tamaño de control: {}\". format(len(df_satelite_target)))"
      ],
      "metadata": {
        "id": "1rijtChMG7dO"
      },
      "execution_count": null,
      "outputs": []
    },
    {
      "cell_type": "code",
      "source": [
        "# Llamadas a la función de temperatura\n",
        "df_existentes_control2.apply(lambda x: temperatura(id = x[\"id\"],\n",
        "                                     x = x[\"X\"],\n",
        "                                     y = x[\"Y\"],\n",
        "                                     year = x[\"year\"],\n",
        "                                     month = x[\"month\"],\n",
        "                                     day = x[\"day\"],\n",
        "                                     anticipacion = 1), axis=1)"
      ],
      "metadata": {
        "id": "gvtLNCW3Mx-Q"
      },
      "execution_count": null,
      "outputs": []
    },
    {
      "cell_type": "markdown",
      "source": [
        "## 5.2-Target"
      ],
      "metadata": {
        "id": "V1DhP2RVGlDE"
      }
    },
    {
      "cell_type": "code",
      "source": [
        "# Leo el fichero con los incendios de target\n",
        "path_incencios_csv = '/content/gdrive/My Drive/incendios_satelite/'\n",
        "df_satelite_target = pd.read_csv (path_incencios_csv + '/incendios_target3.csv',\n",
        "                                  sep=',', encoding='latin1')"
      ],
      "metadata": {
        "id": "QawfiV7xPzKZ"
      },
      "execution_count": null,
      "outputs": []
    },
    {
      "cell_type": "code",
      "source": [
        "# Llamadas a la función de temperatura\n",
        "df_satelite_target.apply(lambda x: temperatura(id = x[\"id\"],\n",
        "                                     x = x[\"X\"],\n",
        "                                     y = x[\"Y\"],\n",
        "                                     year = x[\"year\"],\n",
        "                                     month = x[\"month\"],\n",
        "                                     day = x[\"day\"],\n",
        "                                     anticipacion = 1), axis=1)"
      ],
      "metadata": {
        "id": "SQD1etgnNh2u"
      },
      "execution_count": null,
      "outputs": []
    },
    {
      "cell_type": "markdown",
      "source": [
        "# 6-Humedad relativa"
      ],
      "metadata": {
        "id": "FKhw4NBCUYm4"
      }
    },
    {
      "cell_type": "markdown",
      "source": [
        "## 6.1-Control"
      ],
      "metadata": {
        "id": "X0VcIgpIqmeP"
      }
    },
    {
      "cell_type": "code",
      "source": [
        "# Leo el fichero con los incendios de control\n",
        "path_incencios_csv = '/content/gdrive/My Drive/incendios_satelite/'\n",
        "df_satelite_target = pd.read_csv (\n",
        "    path_incencios_csv + 'total_incendios_control.csv', sep=',', encoding='latin1')\n",
        "print(\"Tamaño de control: {}\". format(len(df_satelite_target)))"
      ],
      "metadata": {
        "id": "FjdC734xUcrC"
      },
      "execution_count": null,
      "outputs": []
    },
    {
      "cell_type": "code",
      "source": [
        "# Llamadas a la función de humedad relativa\n",
        "df_satelite_target.apply(lambda x: humedad_relativa(id = x[\"id\"],\n",
        "                                     x = x[\"X\"],\n",
        "                                     y = x[\"Y\"],\n",
        "                                     year = x[\"year\"],\n",
        "                                     month = x[\"month\"],\n",
        "                                     day = x[\"day\"],\n",
        "                                     anticipacion = 1), axis=1)"
      ],
      "metadata": {
        "id": "phhjySVbVw7d"
      },
      "execution_count": null,
      "outputs": []
    },
    {
      "cell_type": "markdown",
      "source": [
        "## 6.2-Target"
      ],
      "metadata": {
        "id": "wQ5ySmuvUQDW"
      }
    },
    {
      "cell_type": "code",
      "source": [
        "# Leo el fichero con los incendios de target\n",
        "path_incencios_csv = '/content/gdrive/My Drive/incendios_satelite/'\n",
        "df_satelite_target = pd.read_csv (path_incencios_csv + '/incendios_target3.csv',\n",
        "                                  sep=',', encoding='latin1')\n",
        "print(len(df_satelite_target))\n",
        "df_satelite_target.head()"
      ],
      "metadata": {
        "id": "MrIciDQpUSvO"
      },
      "execution_count": null,
      "outputs": []
    },
    {
      "cell_type": "code",
      "source": [
        "# Llamadas a la función de humedad relativa\n",
        "df_satelite_target.apply(lambda x: humedad_relativa(id = x[\"id\"],\n",
        "                                     x = x[\"X\"],\n",
        "                                     y = x[\"Y\"],\n",
        "                                     year = x[\"year\"],\n",
        "                                     month = x[\"month\"],\n",
        "                                     day = x[\"day\"],\n",
        "                                     anticipacion = 1), axis=1)"
      ],
      "metadata": {
        "id": "zqdptVbrvixT"
      },
      "execution_count": null,
      "outputs": []
    },
    {
      "cell_type": "code",
      "source": [
        "# Número de ficheros leídos\n",
        "lista_ficheros = []\n",
        "for file in os.listdir(path_incencios_csv + 'Incendios masivos'):\n",
        "  if \"ND\" in file:\n",
        "    lista_ficheros.append(int(file.split(\"N\")[0]))\n",
        "len(lista_ficheros)"
      ],
      "metadata": {
        "id": "WL974U0Ykk1K"
      },
      "execution_count": null,
      "outputs": []
    },
    {
      "cell_type": "markdown",
      "source": [
        "# 7.Población"
      ],
      "metadata": {
        "id": "0lM-vOdqGcef"
      }
    },
    {
      "cell_type": "markdown",
      "source": [
        "## 7.1- Control"
      ],
      "metadata": {
        "id": "H_HbphrzqzvS"
      }
    },
    {
      "cell_type": "code",
      "source": [
        "# Leo el fichero con los incendios de control\n",
        "path_incencios_csv = '/content/gdrive/My Drive/incendios_satelite/'\n",
        "df_satelite_target = pd.read_csv (path_incencios_csv + 'total_incendios_control.csv', sep=',', encoding='latin1')\n",
        "print(\"Tamaño de control: {}\". format(len(df_satelite_target)))"
      ],
      "metadata": {
        "id": "MhT0MoB2wEee"
      },
      "execution_count": null,
      "outputs": []
    },
    {
      "cell_type": "code",
      "source": [
        "# Llamada a la función de población\n",
        "df_satelite_target.apply(lambda x: poblacion(id = x[\"id\"],\n",
        "                                     x = x[\"X\"],\n",
        "                                     y = x[\"Y\"],\n",
        "                                     year = x[\"year\"],\n",
        "                                     month = x[\"month\"],\n",
        "                                     day = x[\"day\"],\n",
        "                                     anticipacion = 1), axis=1)"
      ],
      "metadata": {
        "id": "ekvcbVUjGrbU"
      },
      "execution_count": null,
      "outputs": []
    },
    {
      "cell_type": "markdown",
      "source": [
        "## 7.2-Población de los Target"
      ],
      "metadata": {
        "id": "N5QMeQ5NQYJ1"
      }
    },
    {
      "cell_type": "code",
      "source": [
        "# Leo el fichero con los incendios target\n",
        "path_incencios_csv = '/content/gdrive/My Drive/incendios_satelite/'\n",
        "df_satelite_target = pd.read_csv (path_incencios_csv + '/incendios_target3.csv', sep=',', encoding='latin1')\n",
        "print(len(df_satelite_target))\n",
        "df_satelite_target.head()"
      ],
      "metadata": {
        "id": "ASmAn6AJH8Za"
      },
      "execution_count": null,
      "outputs": []
    },
    {
      "cell_type": "code",
      "source": [
        "# Llamada a la función de población\n",
        "df_satelite_target.apply(lambda x: poblacion(id = x[\"id\"],\n",
        "                                     x = x[\"X\"],\n",
        "                                     y = x[\"Y\"],\n",
        "                                     year = x[\"year\"],\n",
        "                                     month = x[\"month\"],\n",
        "                                     day = x[\"day\"],\n",
        "                                     anticipacion = 1), axis=1)"
      ],
      "metadata": {
        "id": "Q0sTzjKvQd6o"
      },
      "execution_count": null,
      "outputs": []
    },
    {
      "cell_type": "markdown",
      "source": [
        "# 8-Viento"
      ],
      "metadata": {
        "id": "kO_Azd5hmjwb"
      }
    },
    {
      "cell_type": "code",
      "source": [
        "# Leo el fichero con los casos control\n",
        "path_incencios_csv = '/content/gdrive/My Drive/incendios_satelite/'\n",
        "df_satelite_target = pd.read_csv (\n",
        "    path_incencios_csv + 'total_incendios_control.csv', sep=',', encoding='latin1')\n",
        "print(\"Tamaño de control: {}\". format(len(df_satelite_target)))"
      ],
      "metadata": {
        "id": "JsFJKypUmlYP"
      },
      "execution_count": null,
      "outputs": []
    },
    {
      "cell_type": "code",
      "source": [
        "# Leo el fichero con los casos target\n",
        "path_incencios_csv = '/content/gdrive/My Drive/incendios_satelite/'\n",
        "df_satelite_target = pd.read_csv (\n",
        "    path_incencios_csv + '/incendios_target3.csv', sep=',', encoding='latin1')"
      ],
      "metadata": {
        "id": "4wZonlxRO0WJ"
      },
      "execution_count": null,
      "outputs": []
    },
    {
      "cell_type": "code",
      "source": [
        "# Llamo a la función de tiempo\n",
        "df_satelite_target.apply(lambda x: viento(id = x[\"id\"],\n",
        "                                     x = x[\"X\"],\n",
        "                                     y = x[\"Y\"],\n",
        "                                     year = x[\"year\"],\n",
        "                                     month = x[\"month\"],\n",
        "                                     day = x[\"day\"],\n",
        "                                     anticipacion = 1,\n",
        "                                     direccion=\"U\"), axis=1)"
      ],
      "metadata": {
        "id": "QW0IeU8EmwoH"
      },
      "execution_count": null,
      "outputs": []
    }
  ]
}
