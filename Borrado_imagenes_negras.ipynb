{
  "nbformat": 4,
  "nbformat_minor": 0,
  "metadata": {
    "colab": {
      "provenance": []
    },
    "kernelspec": {
      "name": "python3",
      "display_name": "Python 3"
    },
    "language_info": {
      "name": "python"
    }
  },
  "cells": [
    {
      "cell_type": "code",
      "execution_count": null,
      "metadata": {
        "id": "UJ3qou4QXloI"
      },
      "outputs": [],
      "source": [
        "from google.colab import drive\n",
        "drive.mount(\"/content/gdrive\")"
      ]
    },
    {
      "cell_type": "code",
      "source": [
        "import numpy as np\n",
        "import matplotlib.pyplot as plt\n",
        "import matplotlib.image as mpimg\n",
        "import os\n",
        "import cv2\n",
        "import time\n",
        "import datetime\n",
        "import random"
      ],
      "metadata": {
        "id": "LHUA-xPQXnIH"
      },
      "execution_count": null,
      "outputs": []
    },
    {
      "cell_type": "code",
      "source": [
        "indice = '/content/gdrive/My Drive/Example_Folder_Name/'\n",
        "lista_ficheros = []\n",
        "for file in os.listdir(indice):\n",
        "  lista_ficheros.append(file)\n",
        "print(len(lista_ficheros))"
      ],
      "metadata": {
        "id": "hg76_1faYkRD"
      },
      "execution_count": null,
      "outputs": []
    },
    {
      "cell_type": "code",
      "source": [
        "# Quito las imágenes negras o las que tengan bordes negros\n",
        "for file in lista_ficheros:\n",
        "  if \"incendio2\" in file:\n",
        "    imagen = cv2.imread(indice + file)\n",
        "    if ((imagen.sum()==0) or\n",
        "       (imagen[0:100, 0:100].sum()==0) or\n",
        "       (imagen[0:100,1900:2000].sum()==0) or\n",
        "       (imagen[1900:2000, 0:100].sum()==0) or\n",
        "       (imagen[1900:2000,1900:2000].sum()==0)):\n",
        "      print(\"Borrando la imagen\" + file)\n",
        "      os.remove(indice + file)"
      ],
      "metadata": {
        "id": "Q3WN5TefY43B"
      },
      "execution_count": null,
      "outputs": []
    }
  ]
}